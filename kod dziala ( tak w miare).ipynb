{
 "cells": [
  {
   "cell_type": "markdown",
   "id": "9cf5624e",
   "metadata": {},
   "source": [
    "# Lokalizacja punktu na płaszczyźnie dwuwymiarowej – metoda trapezowa "
   ]
  },
  {
   "cell_type": "markdown",
   "id": "d89f5b8f",
   "metadata": {},
   "source": [
    "### Treść zadania"
   ]
  },
  {
   "cell_type": "markdown",
   "id": "309fe32c",
   "metadata": {},
   "source": [
    "Dany jest obszar z podziałem poligonowym. Zadawany jest punkt P na płaszczyźnie. Należy\n",
    "zaimplementować algorytm lokalizacji punktu metodą trapezową, który odpowie na pytanie,\n",
    "w którym elemencie znajduje się dany punkt. (Należy także umożliwić użytkownikowi\n",
    "odpowiednio zadawanie obszaru z podziałem poligonowym.) \n",
    "Zrobić analizę efektywności algorytmu.\n",
    "\n",
    "Program powinien w sposób graficzny prezentować etapy algorytmu dla wybranych\n",
    "przykładów (w celu objaśnienia działania algorytmu). Program ma służyć jako narzędzie\n",
    "dydaktyczne do objaśnienia działania algorytmu. "
   ]
  },
  {
   "cell_type": "markdown",
   "id": "9a059cdb",
   "metadata": {},
   "source": [
    "### Realizacja projektu"
   ]
  },
  {
   "cell_type": "markdown",
   "id": "0d09ef58",
   "metadata": {},
   "source": [
    "### Dane:\n",
    "Poligonowy podział płaszczyzny oraz punkt P należący do zadanej płaszczyzny.\n",
    "\n",
    "### Cel:\n",
    "Odszukanie wielokąta (ściany) zawierającego zadany punkt w czasie optymalnym -> $O(nlogn)$.\n",
    "\n",
    "#### Uwaga: \n",
    "Istnieją ustawienia, które nie pozwolą nam jednoznacznie wskazać, do którego wielokąta możemy przypisać punkt P (nie będzie on leżał wewnątrz żadnej ze ścian). W celu pokrycia takiego przypadku brzegowego, umieszczamy cały podział w prostokącie zawierającym całą płaszczynę planarną. Prosotkąt ten będzie nazywać $B$. W wypadku wystąpienia wcześniej opsianego przypadku brzegowego, algorytm zwróci obszar opisanego prostokąta $B$.\n"
   ]
  },
  {
   "cell_type": "markdown",
   "id": "5ee49e9e",
   "metadata": {},
   "source": [
    "## Metoda trapezowa\n",
    "Podział płaszczyzny będzie reprezentowany przez zbiór odcinków $S$ = {$s$<sub>1</sub>,$s$<sub>2</sub>,...,$s$<sub>n</sub>}, o następujących założeniach:\n",
    "- wartości współrzędnej x początku i końca odcinka dla żadnego odcinka nie są takie same, innymi słowy zbiór nie zawiera odcników pionowych,\n",
    "- żadne dwa odcinki nie przecinają się, poza ewentualnie nachodzącymi na siebie wierzchołkami,\n",
    "- wierzchołki żadnych dwóch odcinków nie mają takiej samej współrzędnej x (poza ewentualnymi końcami połączonych odcinków).\n",
    "\n",
    "W celu realizacji algorytmu wprowadzimy nową strukturę odpowiedzialną za reprezentację płaszczyzny - Mapę trapezową.\n",
    "### Mapa trapezowa\n",
    "Mapa trapezowa $T$($S$) jest podziałem $S$ na trapezy (prawidłowe lub zdegenerowane) otrzymanym przez poprowadzenie dwóch odcinków pionowych z każdego końca odcinka w $S$. Rozszerzenia kończą się, gdy napotkają inny odcinek $S$ lub brzeg prostokąta $B$. "
   ]
  },
  {
   "cell_type": "markdown",
   "id": "fb2c4753",
   "metadata": {},
   "source": [
    "### Wykorzystywane struktury danych\n",
    "\n",
    "Oprócz wskazanej wcześniej struktury Mapy tapezowej, implementację uzupełniono o realizację opartą o następujących strukturach"
   ]
  },
  {
   "cell_type": "markdown",
   "id": "2d9a545d",
   "metadata": {},
   "source": [
    "### Point"
   ]
  },
  {
   "cell_type": "markdown",
   "id": "622f3f6f",
   "metadata": {},
   "source": [
    "Struktura odpowiedzialna za obsługę pojedynczych punktów i ich informacji"
   ]
  },
  {
   "cell_type": "code",
   "execution_count": 3,
   "id": "d9152b97",
   "metadata": {},
   "outputs": [],
   "source": [
    "class Point:\n",
    "    def __init__(self, x, y):\n",
    "        self.x = x\n",
    "        self.y = y\n",
    "\n",
    "    def get_x(self):\n",
    "        return self.x\n",
    "    \n",
    "    def get_y(self):\n",
    "        return self.y\n",
    "    \n",
    "    def __gt__(self, other):\n",
    "        return self.x > other.x\n",
    "\n",
    "    def to_tuple(self):\n",
    "        return (self.x, self.y)\n",
    "\n",
    "    def __str__(self):\n",
    "        return \"{},{}\".format(self.x, self.y)\n",
    "    \n",
    "    def __hash__(self):\n",
    "        return hash((self.x, self.y))"
   ]
  },
  {
   "cell_type": "markdown",
   "id": "57a0caf5",
   "metadata": {},
   "source": [
    "### Segment"
   ]
  },
  {
   "cell_type": "markdown",
   "id": "29a81da1",
   "metadata": {},
   "source": [
    "Struktura odpowiedzialna za przetrzymywanie informacji o pojedyncznym odcinku na płaszczyźnie"
   ]
  },
  {
   "cell_type": "code",
   "execution_count": 4,
   "id": "50cb23f5",
   "metadata": {},
   "outputs": [],
   "source": [
    "class Segment:\n",
    "    x = None\n",
    "    \n",
    "    def __init__(self, point1, point2):\n",
    "        if point1.x < point2.x:\n",
    "            self.left = point1\n",
    "            self.right = point2\n",
    "        else:\n",
    "            self.left = point2\n",
    "            self.right = point1\n",
    "            \n",
    "        self.a = None\n",
    "        self.b = None\n",
    "        self._calculate_line_parameters()\n",
    "        \n",
    "    def _calculate_line_parameters(self):\n",
    "        dx = self.right.x - self.left.x\n",
    "        if dx != 0: \n",
    "            self.a = (self.right.y - self.left.y) / dx\n",
    "            self.b = self.left.y - (self.a * self.left.x)\n",
    "\n",
    "    @classmethod\n",
    "    def set_reference_x(x):\n",
    "        Segment.x = x\n",
    "\n",
    "    def get_y(self, x):\n",
    "        if self.left.x <= x <= self.right.x:\n",
    "            return self.a * x + self.b if self.a is not None else None\n",
    "    \n",
    "    def get_a(self):\n",
    "        return self.a\n",
    "    \n",
    "    def get_b(self):\n",
    "        return self.b\n",
    "    \n",
    "    def is_above(self, point):\n",
    "        y_at_x = self.get_y(point.x)\n",
    "        return y_at_x is not None and point.y > y_at_x\n",
    "\n",
    "    def __lt__(self, other):\n",
    "        y_self = self.a * Segment.x + self.b\n",
    "        y_other = other.a * Segment.x + other.b\n",
    "        return y_self < y_other\n",
    "\n",
    "    def __gt__(self, other):\n",
    "        y_self = self.a * Segment.x + self.b\n",
    "        y_other = other.a * Segment.x + other.b\n",
    "        return y_self > y_other\n",
    "\n",
    "    def __hash__(self):\n",
    "        return hash((self.Left, self.Right))\n",
    "    \n",
    "    def to_tuple(self):\n",
    "        return (self.left.to_tuple(), self.right.to_tuple())\n",
    "    \n",
    "    def __eq__(self, other):\n",
    "        if not isinstance(other, Segment):\n",
    "            return False\n",
    "        return self.left == other.left and self.right == other.right\n",
    "        \n",
    "    @staticmethod\n",
    "    def update_x(x):\n",
    "        Segment.x = x"
   ]
  },
  {
   "cell_type": "markdown",
   "id": "b4c47d47",
   "metadata": {},
   "source": [
    "### Trapez"
   ]
  },
  {
   "cell_type": "markdown",
   "id": "0fd9b457",
   "metadata": {},
   "source": [
    "Przechowuje pojedynczy odcinek należący do mapy tapezów"
   ]
  },
  {
   "cell_type": "code",
   "execution_count": 5,
   "id": "7e491e92",
   "metadata": {},
   "outputs": [],
   "source": [
    "class Trapez:\n",
    "    def __init__(self, top, bottom, p, q):\n",
    "        self.top_segment = top\n",
    "        self.bottom_segment = bottom\n",
    "        self.left_point = p\n",
    "        self.right_point = q\n",
    "\n",
    "        self.top_left = None\n",
    "        self.bottom_left = None\n",
    "        self.top_right = None\n",
    "        self.bottom_right = None\n",
    "        self.node = None\n",
    "\n",
    "    def __str__(self):\n",
    "        return f\"{self.bottom_segment} {self.top_segment}\"\n",
    "    \n",
    "    def __eq__(self, other):\n",
    "        if not isinstance(other, Trapez):\n",
    "            return False\n",
    "        return (self.top_segment == other.top_segment and \n",
    "                self.bottom_segment == other.bottom_segment and\n",
    "                self.left_point == other.left_point and \n",
    "                self.right_point == other.right_point)\n",
    "\n",
    "    def copy(self):\n",
    "        new_trapez = Trapez(\n",
    "            self.top_segment,\n",
    "            self.bottom_segment,\n",
    "            self.left_point,\n",
    "            self.right_point\n",
    "        )\n",
    "        new_trapez.update_neighbors(\n",
    "            self.top_left,\n",
    "            self.top_right,\n",
    "            self.bottom_left,\n",
    "            self.bottom_right\n",
    "        )\n",
    "        new_trapez.node = self.node\n",
    "        return new_trapez\n",
    "    \n",
    "    def split_at_point(self, point):\n",
    "        if not self.left_point.x <= point.x <= self.right_point.x:\n",
    "            return None, None\n",
    "            \n",
    "        left_trapez = Trapez(\n",
    "            self.top_segment,\n",
    "            self.bottom_segment,\n",
    "            self.left_point,\n",
    "            point\n",
    "        )\n",
    "        \n",
    "        right_trapez = Trapez(\n",
    "            self.top_segment,\n",
    "            self.bottom_segment,\n",
    "            point,\n",
    "            self.right_point\n",
    "        )\n",
    "        \n",
    "        return left_trapez, right_trapez"
   ]
  },
  {
   "cell_type": "markdown",
   "id": "5f02984d",
   "metadata": {},
   "source": [
    "### Rectangle"
   ]
  },
  {
   "cell_type": "markdown",
   "id": "93e19087",
   "metadata": {},
   "source": [
    "Prostokąt otoczający całą płąszczyznę "
   ]
  },
  {
   "cell_type": "code",
   "execution_count": 6,
   "id": "9096a37f",
   "metadata": {},
   "outputs": [],
   "source": [
    "class Rectangle:\n",
    "    @staticmethod\n",
    "    def create_rectangle(lines):\n",
    "        x_coords = [point[0] for line in lines for point in line]\n",
    "        y_coords = [point[1] for line in lines for point in line]\n",
    "\n",
    "        min_x = min(x_coords)\n",
    "        max_x = max(x_coords)\n",
    "        min_y = min(y_coords)\n",
    "        max_y = max(y_coords)\n",
    "\n",
    "        low_left = Point(min_x, min_y)\n",
    "        low_right = Point(max_x, min_y)\n",
    "        up_left = Point(min_x, max_y)\n",
    "        up_right = Point(max_x, max_y)\n",
    "\n",
    "        top_segment = Segment(up_left, up_right)\n",
    "        bottom_segment = Segment(low_left, low_right)\n",
    "\n",
    "        return Trapez(top_segment, bottom_segment, up_left, up_right)"
   ]
  },
  {
   "cell_type": "markdown",
   "id": "43367d3d",
   "metadata": {},
   "source": [
    "<span style=\"color:red\">ogranac co sie dzieje w tych drzewach </span>"
   ]
  },
  {
   "cell_type": "markdown",
   "id": "77d678c1",
   "metadata": {},
   "source": [
    "### Drzewa"
   ]
  },
  {
   "cell_type": "markdown",
   "id": "738bed49",
   "metadata": {},
   "source": [
    "Zaimplementowo dwie strultury drzew, podstawową - Node i specjalnie przygotowaną do tego algorytmu - Tree\n",
    "Nasze rozważania skupimy na tej drugiej\n",
    "<p>Tree - Struktura umożliwiająca przeszukiwanie mapy trapezowej w celu znalezienia \"ściany\" do której należy zadany punkt.</p>\n",
    "<p>Zawiera ona 3 typy węzłów:</p>\n",
    "<ul>\n",
    "    <li>l_type_node - jest to liść drzewa, który zawiera jedną ze \"ścian\" mapy trapezowej</li>\n",
    "    <li>x_type_node - jest to węzeł typu X zawierający punkt</li>\n",
    "    <li>y_type_node - jest to węzeł typu Y zawierający odcinek</li>\n",
    "</ul>"
   ]
  },
  {
   "cell_type": "code",
   "execution_count": 7,
   "id": "0c177f6a",
   "metadata": {},
   "outputs": [],
   "source": [
    "class Node:\n",
    "    def __init__(self, node_type, data):\n",
    "        self.node_type = node_type\n",
    "        self.data = data\n",
    "        self.left = None\n",
    "        self.right = None"
   ]
  },
  {
   "cell_type": "code",
   "execution_count": 8,
   "id": "68fe3e96",
   "metadata": {},
   "outputs": [],
   "source": [
    "class Tree:\n",
    "    def __init__(self, root):\n",
    "        self.root = root\n",
    "\n",
    "    def update_root(self, root):\n",
    "        self.root = root\n",
    "\n",
    "    def search(self, node, point, segment=None):\n",
    "        if node.node_type == 'l_type_node':\n",
    "            return node.data\n",
    "            \n",
    "        if node.node_type == 'x_type_node':\n",
    "            next_node = node.left if point.x < node.data.x else node.right\n",
    "        else:\n",
    "            if node.data.is_above(point):\n",
    "                next_node = node.left\n",
    "            elif node.data.get_y(point.x) == point.y:\n",
    "                next_node = node.left if segment.a > node.data.a else node.right\n",
    "            else:\n",
    "                next_node = node.right\n",
    "                \n",
    "        return self.search(next_node, point, segment)\n",
    "    \n",
    "    @staticmethod\n",
    "    def update_node_both_sides(trapezoid, segment, left, top, bottom, right):\n",
    "        node = trapezoid.node\n",
    "        node.node_type = 'x_type_node'\n",
    "        node.data = segment.left\n",
    "\n",
    "        lefl_type_node = Node('l_type_node', left)\n",
    "        node.left = lefl_type_node\n",
    "        left.node = lefl_type_node\n",
    "\n",
    "        righl_type_node = Node('x_type_node', segment.right)\n",
    "        node.right = righl_type_node\n",
    "\n",
    "        right_leaf = Node('l_type_node', right)\n",
    "        righl_type_node.right = right_leaf\n",
    "        right.node = right_leaf\n",
    "\n",
    "        segmenl_type_node = Node('y_type_node', segment)\n",
    "        righl_type_node.left = segmenl_type_node\n",
    "\n",
    "        top_leaf = Node('l_type_node', top)\n",
    "        segmenl_type_node.left = top_leaf\n",
    "        top.node = top_leaf\n",
    "\n",
    "        bottom_leaf = Node('l_type_node', bottom)\n",
    "        segmenl_type_node.right = bottom_leaf\n",
    "        bottom.node = bottom_leaf\n",
    "\n",
    "    @staticmethod\n",
    "    def update_node_right_side(trapezoid, segment, top, bottom, right):\n",
    "        node = trapezoid.node\n",
    "        node.node_type = 'x_type_node'\n",
    "        node.data = segment.right\n",
    "\n",
    "        right_leaf = Node('l_type_node', right)\n",
    "        node.right = right_leaf\n",
    "        right.node = right_leaf\n",
    "\n",
    "        segmenl_type_node = Node('y_type_node', segment)\n",
    "        node.left = segmenl_type_node\n",
    "\n",
    "        top_leaf = Node('l_type_node', top)\n",
    "        segmenl_type_node.left = top_leaf\n",
    "        top.node = top_leaf\n",
    "\n",
    "        bottom_leaf = Node('l_type_node', bottom)\n",
    "        segmenl_type_node.right = bottom_leaf\n",
    "        bottom.node = bottom_leaf\n",
    "\n",
    "    @staticmethod\n",
    "    def update_node_left_side(trapezoid, segment, left, top, bottom):\n",
    "        node = trapezoid.node\n",
    "        node.node_type = 'x_type_node'\n",
    "        node.data = segment.left\n",
    "\n",
    "        lefl_type_node = Node('l_type_node', left)\n",
    "        node.left = lefl_type_node\n",
    "        left.node = lefl_type_node\n",
    "\n",
    "        segmenl_type_node = Node('y_type_node', segment)\n",
    "        node.right = segmenl_type_node\n",
    "\n",
    "        bottom_leaf = Node('l_type_node', bottom)\n",
    "        segmenl_type_node.right = bottom_leaf\n",
    "        bottom.node = bottom_leaf\n",
    "\n",
    "        top_leaf = Node('l_type_node', top)\n",
    "        segmenl_type_node.left = top_leaf\n",
    "        top.node = top_leaf\n",
    "\n",
    "    @staticmethod\n",
    "    def update_node_no_sides(trapezoid, segment, top, bottom):\n",
    "        node = trapezoid.node\n",
    "        node.node_type = 'y_type_node'\n",
    "        node.data = segment\n",
    "\n",
    "        top_leaf = Node('l_type_node', top)\n",
    "        node.left = top_leaf\n",
    "        top.node = top_leaf\n",
    "\n",
    "        bottom_leaf = Node('l_type_node', bottom)\n",
    "        node.right = bottom_leaf\n",
    "        bottom.node = bottom_leaf\n",
    "\n",
    "    @staticmethod\n",
    "    def update_node_multiple(trapezoids, segment, new_above, new_below, left, right):\n",
    "        \n",
    "        if left:\n",
    "            Tree.update_node_left_side(trapezoids[0], segment, left, new_above[0], new_below[0])\n",
    "        \n",
    "        else:\n",
    "            Tree.update_node_no_sides(trapezoids[0], segment, new_above[0], new_below[0])\n",
    "\n",
    "        node = trapezoids[0].node\n",
    "        i, j = 0, 0\n",
    "        \n",
    "        while i + j < len(trapezoids) - 2:\n",
    "            \n",
    "            node = trapezoids[i + j + 1].node\n",
    "            node.node_type = 'y_type_node'\n",
    "            node.data = segment\n",
    "\n",
    "            if i == len(new_above) - 1 or (j < len(new_below) - 1 and new_below[j].right_point < new_above[i].right_point):\n",
    "                j += 1\n",
    "                above_node = new_above[i].node\n",
    "                below_leaf = Node('l_type_node', new_below[j])\n",
    "                node.left = above_node\n",
    "                node.right = below_leaf\n",
    "                new_below[j].node = below_leaf\n",
    "            \n",
    "            else:\n",
    "                i += 1\n",
    "                below_node = new_below[j].node\n",
    "                above_leaf = Node('l_type_node', new_above[i])\n",
    "                node.right = below_node\n",
    "                node.left = above_leaf\n",
    "                new_above[i].node = above_leaf\n",
    "\n",
    "        lasl_type_node = trapezoids[-1].node\n",
    "        \n",
    "        if right:\n",
    "            lasl_type_node.node_type = 'x_type_node'\n",
    "            lasl_type_node.data = segment.right\n",
    "            right_leaf = Node('l_type_node', right)\n",
    "            lasl_type_node.right = right_leaf\n",
    "            right.node = right_leaf\n",
    "            segmenl_type_node = Node('y_type_node', segment)\n",
    "            lasl_type_node.left = segmenl_type_node\n",
    "        \n",
    "        else:\n",
    "            lasl_type_node.node_type = 'y_type_node'\n",
    "            lasl_type_node.data = segment\n",
    "\n",
    "        last_above = new_above[-1].node\n",
    "        last_below = new_below[-1].node\n",
    "        \n",
    "        if i == len(new_above) - 1 and j == len(new_below) - 1:\n",
    "            lasl_type_node.left = last_above\n",
    "            lasl_type_node.right = last_below\n",
    "        \n",
    "        elif j == len(new_below) - 1:\n",
    "            last_above_leaf = Node('l_type_node', new_above[-1])\n",
    "            lasl_type_node.left = last_above_leaf\n",
    "            new_above[-1].node = last_above_leaf\n",
    "            lasl_type_node.right = last_below\n",
    "        \n",
    "        else:\n",
    "            last_below_leaf = Node('l_type_node', new_below[-1])\n",
    "            lasl_type_node.right = last_below_leaf\n",
    "            new_below[-1].node = last_below_leaf\n",
    "            lasl_type_node.left = last_above\n"
   ]
  },
  {
   "cell_type": "markdown",
   "id": "2d382b4b",
   "metadata": {},
   "source": [
    "### TrapezoidMap\n",
    "\n",
    "Tworzenie mapy i operacje na niej"
   ]
  },
  {
   "cell_type": "code",
   "execution_count": 17,
   "id": "ff5c1f67",
   "metadata": {},
   "outputs": [],
   "source": [
    "import random\n",
    "class TrapezoidMap:\n",
    "\n",
    "    def __init__(self):\n",
    "      self.tree = None\n",
    "\n",
    "    def insertIntoOne(_, trapezoid : Trapez, segment : Segment):\n",
    "        p, q = segment.left, segment.right\n",
    "        bottom_left = trapezoid.bottom_left\n",
    "        bottom_right = trapezoid.bottom_right\n",
    "        top_left = trapezoid.top_left\n",
    "        top_right = trapezoid.top_right\n",
    "        \n",
    "        left, right = None, None\n",
    "        top = Trapez(trapezoid.top_segment, segment, p, q)\n",
    "        bottom = Trapez(segment, trapezoid.bottom_segment, p, q)\n",
    "        \n",
    "        if trapezoid.left_point < p:\n",
    "            left = Trapez(trapezoid.top_segment, trapezoid.bottom_segment, trapezoid.left_point, p)\n",
    "            left.bottom_left = bottom_left\n",
    "            left.top_left = top_left\n",
    "            left.top_right = top\n",
    "            left.bottom_right = bottom\n",
    "            top.top_left = left\n",
    "            bottom.bottom_left = left\n",
    "            if trapezoid.top_left: trapezoid.top_left.top_right = left\n",
    "            if trapezoid.bottom_left: trapezoid.bottom_left.bottom_right = left\n",
    "\n",
    "\n",
    "        else:\n",
    "            Segment.update_x(p.x)\n",
    "            bottom.bottom_left = bottom_left\n",
    "            top.top_left = top_left\n",
    "            if bottom_left:\n",
    "                bottom_left.bottom_right = bottom\n",
    "                if bottom_left.top_segment > segment:\n",
    "                    bottom_left.top_right = top\n",
    "                    top.bottom_left = bottom_left\n",
    "            if top_left:\n",
    "                top_left.top_right = top\n",
    "                if segment > top_left.bottom_segment:\n",
    "                    top_left.bottom_right = bottom\n",
    "                    bottom.top_left = top_left\n",
    "                    \n",
    "        if trapezoid.right_point > q:\n",
    "            right = Trapez(trapezoid.top_segment, trapezoid.bottom_segment, segment.right, trapezoid.right_point)\n",
    "            right.bottom_right = bottom_right\n",
    "            right.top_right = top_right\n",
    "            right.bottom_left = bottom\n",
    "            right.top_left = top\n",
    "            top.top_right = right\n",
    "            bottom.bottom_right = right\n",
    "            if trapezoid.top_right: trapezoid.top_right.top_left = right\n",
    "            if trapezoid.bottom_right: trapezoid.bottom_right.bottom_left = right\n",
    "        else:\n",
    "            Segment.update_x(q.x)\n",
    "            bottom.bottom_right = bottom_right\n",
    "            top.top_right = top_right\n",
    "            if bottom_right:\n",
    "                bottom_right.bottom_left = bottom\n",
    "                if bottom_right.top_segment > segment:\n",
    "                    bottom_right.top_left = top\n",
    "                    top.bottom_right = bottom_right\n",
    "            if top_right:\n",
    "                top_right.top_left = top\n",
    "                if segment > top_right.bottom_segment:\n",
    "                    top_right.bottom_left = bottom\n",
    "                    bottom.top_right = top_right\n",
    "                    \n",
    "        if left and right:\n",
    "            Tree.update_node_both_sides(trapezoid, segment, left, top, bottom, right)\n",
    "        elif not left and right:\n",
    "            Tree.update_node_right_side(trapezoid, segment, top, bottom, right)\n",
    "        elif left and not right:\n",
    "            Tree.update_node_left_side(trapezoid, segment, left, top, bottom)\n",
    "        else:\n",
    "            Tree.update_node_no_sides(trapezoid, segment, top, bottom)\n",
    "    def insertIntoMany (_, trapezoids: list[Trapez], segment: Segment):\n",
    "        p, q = segment.left, segment.right\n",
    "        left, right = None, None\n",
    "        newTrapezoidsAbove = []\n",
    "        newTrapezoidsBelow = []\n",
    "        n = len(trapezoids)\n",
    "        first = trapezoids[0]\n",
    "        bottom_left = first.bottom_left\n",
    "        top_left = first.top_left\n",
    "        top_right = first.top_right\n",
    "        bottom_right = first.bottom_right\n",
    "        Segment.update_x(first.right_point.x)\n",
    "        \n",
    "        if segment.is_above(first.right_point):\n",
    "            top = Trapez(first.top_segment, segment, p, first.right_point)\n",
    "            bottom = Trapez(segment, first.bottom_segment, p, Point(Segment.x, segment.get_y(Segment.x)))\n",
    "            merge = \"lower\"\n",
    "        else:\n",
    "            top = Trapez(first.top_segment, segment, p, Point(Segment.x, segment.get_y(Segment.x)))\n",
    "            bottom = Trapez(segment, first.bottom_segment, p, first.right_point)\n",
    "            merge = \"upper\"\n",
    "            \n",
    "        if first.left_point < p:\n",
    "            left = Trapez(first.top_segment, first.bottom_segment, first.left_point, p)\n",
    "            left.bottom_left = bottom_left\n",
    "            left.top_left = top_left\n",
    "            left.top_right = top\n",
    "            left.bottom_right = bottom\n",
    "            top.top_left = left\n",
    "            bottom.bottom_left = left \n",
    "            if first.top_left: first.top_left.top_right = left\n",
    "            if first.bottom_left: first.bottom_left.bottom_right = left\n",
    "            \n",
    "            \n",
    "        else:           \n",
    "            bottom.bottom_left = bottom_left\n",
    "            top.top_left = top_left\n",
    "            if bottom_left:\n",
    "                bottom_left.bottom_rightt = bottom\n",
    "                if bottom_left.top_segment > segment:\n",
    "                    bottom_left.top_right = top\n",
    "                    top.bottom_left = bottom_left\n",
    "            if top_left:\n",
    "                top_left.top_right = top\n",
    "                if segment > top_left.bottom_segment:\n",
    "                    top_left.bottom_right = bottom\n",
    "                    bottom.top_left = top_left\n",
    "                                \n",
    "        if trapezoids[1] == first.bottom_right:\n",
    "            top.top_right = top_right\n",
    "            if top_right:\n",
    "                top_right.top_left = top\n",
    "        else:\n",
    "            bottom.bottom_right = bottom_right\n",
    "            if bottom_right:\n",
    "                bottom_right.bottom_left = bottom\n",
    "        \n",
    "        newTrapezoidsAbove.append(top)\n",
    "        newTrapezoidsBelow.append(bottom)\n",
    "        \n",
    "        for i in range(1, n-1):\n",
    "            nextPoint = trapezoids[i].right_point\n",
    "            bottom_left = trapezoids[i].bottom_left\n",
    "            top_left = trapezoids[i].top_left\n",
    "            top_right = trapezoids[i].top_right\n",
    "            bottom_right = trapezoids[i].bottom_right\n",
    "            Segment.update_x(nextPoint.x)\n",
    "            \n",
    "            if segment.is_above(nextPoint):\n",
    "                lowerright_point = Point(Segment.x, segment.get_y(Segment.x))\n",
    "                if merge == \"upper\":\n",
    "                    top.right_point = nextPoint\n",
    "                    t = Trapez(segment, trapezoids[i].bottom_segment, bottom.right_point, lowerright_point)\n",
    "                    bottom.top_right = t\n",
    "                    t.top_left = bottom\n",
    "                    t.bottom_left = bottom_left\n",
    "                    if bottom_left:\n",
    "                        bottom_left.bottom_right = t\n",
    "                    top.top_right = top_right\n",
    "                    if top_right:\n",
    "                        top_right.top_left = top\n",
    "                    bottom = t\n",
    "                    newTrapezoidsBelow.append(bottom)\n",
    "                else:\n",
    "                    bottom.right_point = lowerright_point\n",
    "                    t = Trapez(trapezoids[i].top_segment, segment, top.right_point, nextPoint)\n",
    "                    top.bottom_right = t\n",
    "                    t.bottom_left = top\n",
    "                    t.top_left = top_left\n",
    "                    t.top_right = top_right\n",
    "                    if top_left:\n",
    "                        top_left.top_right = t\n",
    "                    if top_right:\n",
    "                        top_right.top_left = t\n",
    "                    top = t\n",
    "                    newTrapezoidsAbove.append(top)\n",
    "                merge = \"lower\"   \n",
    "            else:\n",
    "                upperright_point = Point(Segment.x, segment.get_y(Segment.x))\n",
    "                if merge == \"upper\":\n",
    "                    top.right_point = upperright_point\n",
    "                    t = Trapez(segment, trapezoids[i].bottom_segment, bottom.right_point, nextPoint)\n",
    "                    bottom.top_right = t\n",
    "                    t.top_left = bottom\n",
    "                    t.bottom_left = bottom_left\n",
    "                    t.bottom_right = bottom_right\n",
    "                    if bottom_left:\n",
    "                        bottom_left.bottom_right = t\n",
    "                    if bottom_right:\n",
    "                        bottom_right.bottom_left = t\n",
    "                    bottom = t\n",
    "                    newTrapezoidsBelow.append(bottom)\n",
    "                else:\n",
    "                    bottom.right_point = nextPoint\n",
    "                    t = Trapez(trapezoids[i].top_segment, segment, top.right_point, upperright_point)\n",
    "                    top.bottom_right = t\n",
    "                    t.bottom_left = top\n",
    "                    t.top_left = top_left\n",
    "                    if top_left:\n",
    "                        top_left.top_right = t\n",
    "                    bottom.bottom_right = bottom_right\n",
    "                    if bottom_right:\n",
    "                        bottom_right.bottom_left = bottom\n",
    "                    top = t\n",
    "                    newTrapezoidsAbove.append(top)\n",
    "                merge=\"upper\"\n",
    "                \n",
    "        last = trapezoids[n-1]\n",
    "        bottom_left = last.bottom_left\n",
    "        top_left = last.top_left\n",
    "        top_right = last.top_right\n",
    "        bottom_right = last.bottom_right\n",
    "        Segment.update_x(last.right_point)\n",
    "            \n",
    "        if merge == \"upper\":\n",
    "            top.right_point = q\n",
    "            t = Trapez(segment, last.bottom_segment, bottom.right_point, q)\n",
    "            bottom.top_right = t\n",
    "            t.top_left = bottom\n",
    "            bottom = t\n",
    "            newTrapezoidsBelow.append(bottom)\n",
    "        else:\n",
    "            bottom.right_point = q\n",
    "            t = Trapez(last.top_segment, segment, top.right_point, q)\n",
    "            top.bottom_right = t\n",
    "            t.bottom_left = top\n",
    "            top = t\n",
    "            newTrapezoidsAbove.append(top)\n",
    "            \n",
    "        if last.right_point > q:\n",
    "            right = Trapez(last.top_segment, last.bottom_segment, q, last.right_point)\n",
    "            right.bottom_left = bottom\n",
    "            right.top_left = top\n",
    "            right.top_right = top_right\n",
    "            right.bottom_right = bottom_right\n",
    "            top.top_right = right\n",
    "            bottom.bottom_right = right\n",
    "            if last.top_right: last.top_right.top_left = right\n",
    "            if last.bottom_right: last.bottom_right.bottom_left = right\n",
    "        else:\n",
    "            top.top_right = top_right\n",
    "            bottom.bottom_right = bottom_right\n",
    "            if bottom_right:\n",
    "                bottom_right.bottom_left = bottom\n",
    "                if bottom_right.top_segment > segment:\n",
    "                    bottom_right.top_left = top\n",
    "                    top.bottom_right = bottom_right\n",
    "            if top_right:\n",
    "                top_right.top_left = top\n",
    "                if segment > top_right.bottom_segment:\n",
    "                    top_right.bottom_left = bottom\n",
    "                    bottom.top_right = top_right\n",
    "                    \n",
    "        if last == trapezoids[n-2].top_right:\n",
    "            bottom.bottom_left = bottom_left\n",
    "            if bottom_left:\n",
    "                bottom_left.bottom_right = bottom\n",
    "        else:\n",
    "            top.top_left = top_left\n",
    "            if top_left:\n",
    "                top_left.top_right = top\n",
    "                \n",
    "        Tree.update_node_multiple(trapezoids, segment, newTrapezoidsAbove, newTrapezoidsBelow, left, right)"
   ]
  },
  {
   "cell_type": "markdown",
   "id": "83e36a6e",
   "metadata": {},
   "source": [
    "## Algorytmy\n",
    "Aby rozwiązać zadany problem zaimplementowano poniższe algorytmy i funckje pomocnicze\n",
    "### Randomizowany algorytm przyrostowy\n",
    "Przetwarzamy odcinki ze zbioru  S  w dowolnej permutacji. Dla niektórych przypadków otrzymana struktura przeszukiwań  Tree może mieć rozmiar kwadratowy i liniowy czas przeszukiwania, ale dla innych permutacji złożoności tych operacji będą znacznie korzystniejsze. Analiza złożoności tego algorytmu jest probabilistyczna. Jak się okazuje, oczekiwana złożoność czasowa konstrukcji mapy trapezowej to  O(n log n) , oczekiwany rozmiar struktury przeszukiwań to  O(n) , natomiast oczekiwany czas zapytania dla dowolnego punktu to O(log n) , gdzie  n  oznacza liczbę odcinków ze zbioru  S , dla którego tę strukturę przygotowujemy.\n"
   ]
  },
  {
   "cell_type": "code",
   "execution_count": 18,
   "id": "103b9f55",
   "metadata": {},
   "outputs": [],
   "source": [
    "def create_trapezoidal_map(segments):\n",
    "        S = []    \n",
    "        for i in random.sample(segments, len(segments)):    \n",
    "            p1 = Point(i[0][0], i[0][1])\n",
    "            p2 = Point(i[1][0], i[1][1])\n",
    "            S.append(Segment(p1, p2))\n",
    "        \n",
    "        R = Rectangle.create_rectangle(segments)\n",
    "        rool_type_node = Node('l_type_node', R)\n",
    "        T = Tree(rool_type_node)\n",
    "        R.node = rool_type_node\n",
    "        \n",
    "        for segment in S:\n",
    "            p, q = segment.left, segment.right\n",
    "            Segment.update_x(p.x)\n",
    "            trapezoids = []\n",
    "            trapezoid_zero = T.search(T.root, p, segment)\n",
    "            trapezoids.append(trapezoid_zero)\n",
    "            i = 0\n",
    "            while q > trapezoids[i].right_point:\n",
    "                Segment.update_x(trapezoids[i].right_point.x)\n",
    "                if not segment.is_above(trapezoids[i].right_point):\n",
    "                    trapezoids.append(trapezoids[i].top_right)\n",
    "                else:\n",
    "                    trapezoids.append(trapezoids[i].bottom_right)\n",
    "                i += 1\n",
    "                \n",
    "            if len(trapezoids) == 1:\n",
    "                TrapezoidMap.insertIntoOne(T, trapezoids[0], segment)\n",
    "            else:\n",
    "                TrapezoidMap.insertIntoMany(T, trapezoids, segment)   \n",
    "        return T"
   ]
  },
  {
   "cell_type": "markdown",
   "id": "7c3d93da",
   "metadata": {},
   "source": [
    "<h1><span style=\"color:red\">Dotąd jest aktualnie zmienione/ poprawione przy większych poprawkach się wywala</span></h1>"
   ]
  },
  {
   "cell_type": "code",
   "execution_count": 19,
   "id": "61c06bca",
   "metadata": {},
   "outputs": [],
   "source": [
    "import random\n",
    "import numpy as np"
   ]
  },
  {
   "cell_type": "markdown",
   "id": "481cb587",
   "metadata": {},
   "source": [
    "<span style=\"color:red\">Nwm czy jest sens to ruszać</span>"
   ]
  },
  {
   "cell_type": "markdown",
   "id": "6612dac4bb1562dc",
   "metadata": {},
   "source": [
    "## Tworzenie mapy trapezowej wraz z wizualizacją\n",
    "Na początek przedstawimy parę wcześniej przygotowanych przykładów."
   ]
  },
  {
   "cell_type": "code",
   "execution_count": 22,
   "id": "73947154",
   "metadata": {},
   "outputs": [],
   "source": [
    "from bitalg.visualizer.main import Visualizer\n",
    "\n",
    "def trapezoidal_map_vis(segments):\n",
    "    S = []\n",
    "    scenes = []\n",
    "\n",
    "    start = Visualizer()\n",
    "    start.add_line_segment(segments, color=\"green\")\n",
    "    scenes.append(start)\n",
    "\n",
    "    for i in random.sample(segments, len(segments)):\n",
    "        p1 = Point(i[0][0], i[0][1])\n",
    "        p2 = Point(i[1][0], i[1][1])\n",
    "        S.append(Segment(p1, p2))\n",
    "\n",
    "    R = Rectangle.create_rectangle(segments)\n",
    "    \n",
    "    rool_type_node = Node('l_type_node', R)\n",
    "    T = Tree(rool_type_node)\n",
    "    R.node = rool_type_node\n",
    "\n",
    "    vis = draw_map(T, R)\n",
    "    scenes.append(vis)\n",
    "    for segment in S:\n",
    "        vis = draw_map(T,R)\n",
    "        vis.add_line_segment(segment.to_tuple())\n",
    "        scenes.append(vis)\n",
    "\n",
    "        p, q = segment.left, segment.right\n",
    "        Segment.update_x(p.x)\n",
    "        intersectedTrapezoids = []\n",
    "        trapezoid_zero = T.search(T.root, p, segment)\n",
    "        intersectedTrapezoids.append(trapezoid_zero)\n",
    "        i = 0\n",
    "        while q > intersectedTrapezoids[i].right_point:\n",
    "            Segment.update_x(intersectedTrapezoids[i].right_point.x)\n",
    "            if not segment.is_above(intersectedTrapezoids[i].right_point):\n",
    "                intersectedTrapezoids.append(intersectedTrapezoids[i].top_right)\n",
    "            else:\n",
    "                intersectedTrapezoids.append(intersectedTrapezoids[i].bottom_right)\n",
    "            i += 1\n",
    "        intersects = draw_map(T, R)\n",
    "        intersects.add_line_segment(segment.to_tuple(), color=\"red\")\n",
    "        for trap in intersectedTrapezoids:\n",
    "            intersects = draw_trapezoid_query(trap,intersects,color=\"purple\")\n",
    "        scenes.append(intersects)\n",
    "\n",
    "        if len(intersectedTrapezoids) == 1:\n",
    "            TrapezoidMap.insertIntoOne(T, intersectedTrapezoids[0], segment)\n",
    "        else:\n",
    "            TrapezoidMap.insertIntoMany(T, intersectedTrapezoids, segment)\n",
    "\n",
    "        vis = draw_map(T, R)\n",
    "        scenes.append(vis)\n",
    "\n",
    "    return T, scenes\n",
    "\n",
    "\n",
    "def findPointVisualised(lines, point: Point):\n",
    "    T, scenes = trapezoidal_map_vis(lines)\n",
    "    R = Rectangle.create_rectangle(lines)\n",
    "    trap = T.search(T.root, point)\n",
    "    vis = draw_map(T, R)\n",
    "    vis.add_point(point.to_tuple(), color=\"red\")\n",
    "    vis = draw_trapezoid_query(trap, vis)\n",
    "    vis.show()\n",
    "\n",
    "\n",
    "def draw_map(D,R):\n",
    "    vis = Visualizer()\n",
    "    trapezoids = []\n",
    "    find_all_trapezoids(D.root, trapezoids)\n",
    "    for trapezoid in trapezoids:\n",
    "        vis = draw_trapezoid(trapezoid, vis)\n",
    "\n",
    "    vis = draw_grid(R, vis)\n",
    "    return vis\n",
    "\n",
    "\n",
    "def find_all_trapezoids(node, trapezoids):\n",
    "    if node.node_type == 'l_type_node':\n",
    "        trapezoids.append(node.data)\n",
    "    else:\n",
    "        find_all_trapezoids(node.left, trapezoids)\n",
    "        find_all_trapezoids(node.right, trapezoids)\n",
    "\n",
    "\n",
    "def draw_grid(R: Trapez, vis):\n",
    "    vis.add_line_segment((R.top_segment.to_tuple(), R.bottom_segment.to_tuple()), color=\"brown\")\n",
    "    R_left = Segment(R.bottom_segment.left, Point(R.left_point.x, R.right_point.y))\n",
    "    R_right = Segment(Point(R.right_point.x, R.left_point.y), R.bottom_segment.right)\n",
    "    vis.add_line_segment((R_left.to_tuple(), R_right.to_tuple()), color=\"brown\")\n",
    "    return vis\n",
    "\n",
    "\n",
    "def draw_trapezoid(trapezoid: Trapez,vis,color=\"green\"):\n",
    "\n",
    "    upper = trapezoid.top_segment.to_tuple()\n",
    "    lower = trapezoid.bottom_segment.to_tuple()\n",
    "    currentX=trapezoid.left_point.x\n",
    "    Segment.update_x(currentX)\n",
    "\n",
    "    leftBottom=(currentX, trapezoid.bottom_segment.get_y(currentX))\n",
    "    leftTop=(currentX, trapezoid.top_segment.get_y(currentX))\n",
    "    leftBound=(leftBottom, leftTop)\n",
    "\n",
    "    currentX = trapezoid.right_point.x\n",
    "    Segment.update_x(currentX)\n",
    "    rightBottom = (currentX, trapezoid.bottom_segment.get_y(currentX))\n",
    "    rightTop = (currentX, trapezoid.top_segment.get_y(currentX))\n",
    "    rightBound = (rightBottom, rightTop)\n",
    "\n",
    "    vis.add_point((leftBottom, leftTop, rightBottom, rightTop), color=\"darkgreen\")\n",
    "    vis.add_line_segment((upper, lower, leftBound, rightBound), color=color)\n",
    "    vis.add_point((trapezoid.left_point.to_tuple(), trapezoid.right_point.to_tuple()), color=\"blue\")\n",
    "    return vis\n",
    "\n",
    "\n",
    "def draw_trapezoid_query(trapezoid: Trapez, vis: Visualizer, color=\"red\"):\n",
    "    currentX = trapezoid.left_point.x\n",
    "    Segment.update_x(currentX)\n",
    "\n",
    "    leftBottom=(currentX, trapezoid.bottom_segment.get_y(currentX))\n",
    "    leftTop=(currentX, trapezoid.top_segment.get_y(currentX))\n",
    "    leftBound=(leftBottom, leftTop)\n",
    "\n",
    "    currentX = trapezoid.right_point.x\n",
    "    Segment.update_x(currentX)\n",
    "    rightBottom = (currentX, trapezoid.bottom_segment.get_y(currentX))\n",
    "    rightTop = (currentX, trapezoid.top_segment.get_y(currentX))\n",
    "    rightBound = (rightBottom, rightTop)\n",
    "\n",
    "    lower = (leftBottom, rightBottom)\n",
    "    upper = (leftTop, rightTop)\n",
    "\n",
    "    vis.add_point((leftBottom, leftTop, rightBottom, rightTop), color=\"purple\")\n",
    "    vis.add_line_segment((upper, lower, leftBound, rightBound), color=color)\n",
    "    vis.add_point((trapezoid.left_point.to_tuple(), trapezoid.right_point.to_tuple()), color=\"purple\")\n",
    "    return vis"
   ]
  },
  {
   "cell_type": "code",
   "execution_count": 23,
   "id": "7cc4f5ce",
   "metadata": {},
   "outputs": [],
   "source": [
    "import matplotlib.pyplot as plt\n",
    "from matplotlib.widgets import Button\n",
    "import tkinter as tk\n",
    "\n",
    "class Presenter:\n",
    "    def __init__(self, scenes):\n",
    "        self.scenes = []\n",
    "        self.scene_data = []\n",
    "        for vis in scenes:\n",
    "            data, plot_data = vis.getData()\n",
    "            self.scenes.append(data)\n",
    "            self.scene_data.append(plot_data)\n",
    "\n",
    "        self.i = len(self.scenes) - 1\n",
    "\n",
    "        plt.subplots_adjust(bottom=0.2)\n",
    "\n",
    "    def __configure_buttons(self):\n",
    "        plt.subplots_adjust(bottom=0.2)\n",
    "        ax_prev = plt.axes([0.05, 0.05, 0.15, 0.075])\n",
    "        ax_next = plt.axes([0.25, 0.05, 0.15, 0.075])\n",
    "        b_next = Button(ax_next, 'Następny')\n",
    "        b_next.on_clicked(self.next)\n",
    "        b_prev = Button(ax_prev, 'Poprzedni')\n",
    "        b_prev.on_clicked(self.prev)\n",
    "        return [b_prev, b_next]\n",
    "\n",
    "    def draw(self):\n",
    "        self.ax.clear()\n",
    "        for figure in self.scenes[self.i]:\n",
    "            figure.draw(self.ax)\n",
    "        self.ax.autoscale()\n",
    "        plt.draw()\n",
    "\n",
    "    def next(self, event):\n",
    "        self.i = (self.i + 1) % len(self.scenes)\n",
    "        self.draw()\n",
    "\n",
    "    def prev(self, event):\n",
    "        self.i = (self.i - 1) % len(self.scenes)\n",
    "        self.draw()\n",
    "\n",
    "    def set_axes(self, ax):\n",
    "        self.ax = ax\n",
    "\n",
    "    def display(self):\n",
    "        plt.close()\n",
    "        fig = plt.figure()\n",
    "        self.widgets = self.__configure_buttons()\n",
    "        self.ax = plt.axes(autoscale_on=False)\n",
    "\n",
    "        plt.show()\n",
    "        self.draw()"
   ]
  },
  {
   "cell_type": "code",
   "execution_count": 24,
   "id": "836f992e",
   "metadata": {},
   "outputs": [],
   "source": [
    "from Examples import *"
   ]
  },
  {
   "cell_type": "code",
   "execution_count": 25,
   "id": "c39f02925b192c4",
   "metadata": {
    "ExecuteTime": {
     "end_time": "2024-01-11T20:44:45.692013363Z",
     "start_time": "2024-01-11T20:44:45.527308702Z"
    }
   },
   "outputs": [],
   "source": [
    "%matplotlib tk\n",
    "T1, scenes1 = trapezoidal_map_vis(exampleLines1)\n",
    "pr1 = Presenter(scenes1)\n",
    "pr1.display()"
   ]
  },
  {
   "cell_type": "code",
   "execution_count": 26,
   "id": "6cb59d27976efec",
   "metadata": {
    "ExecuteTime": {
     "end_time": "2024-01-11T20:44:49.556886173Z",
     "start_time": "2024-01-11T20:44:49.186416199Z"
    }
   },
   "outputs": [],
   "source": [
    "%matplotlib tk\n",
    "T2, scenes2 = trapezoidal_map_vis(exampleLines2)\n",
    "pr2 = Presenter(scenes2)\n",
    "pr2.display()"
   ]
  },
  {
   "cell_type": "code",
   "execution_count": 27,
   "id": "41541da69c38e2bd",
   "metadata": {
    "ExecuteTime": {
     "end_time": "2024-01-11T20:44:55.670924247Z",
     "start_time": "2024-01-11T20:44:52.496511304Z"
    }
   },
   "outputs": [],
   "source": [
    "%matplotlib tk\n",
    "T3, scenes3 = trapezoidal_map_vis(exampleLines3)\n",
    "pr3 = Presenter(scenes3)\n",
    "pr3.display()"
   ]
  },
  {
   "cell_type": "code",
   "execution_count": 28,
   "id": "923b5fcb",
   "metadata": {
    "ExecuteTime": {
     "end_time": "2024-01-11T20:44:58.591004570Z",
     "start_time": "2024-01-11T20:44:58.303084237Z"
    }
   },
   "outputs": [],
   "source": [
    "%matplotlib tk\n",
    "T4, scenes4 = trapezoidal_map_vis(exampleLines4)\n",
    "pr4 = Presenter(scenes4)\n",
    "pr4.display()"
   ]
  },
  {
   "cell_type": "code",
   "execution_count": 31,
   "id": "5ed35e51",
   "metadata": {
    "ExecuteTime": {
     "end_time": "2024-01-11T20:45:08.267698060Z",
     "start_time": "2024-01-11T20:45:07.506733115Z"
    }
   },
   "outputs": [],
   "source": [
    "%matplotlib tk\n",
    "T5, scenes5 = trapezoidal_map_vis(exampleLines5)\n",
    "pr5 = Presenter(scenes5)\n",
    "pr5.display()"
   ]
  },
  {
   "cell_type": "markdown",
   "id": "00cdba53",
   "metadata": {},
   "source": [
    "<span style=\"color:red\">To nie działa, jutro to zmienie, mam napisaną już funckje do tego w osobnym pilku</span>"
   ]
  },
  {
   "cell_type": "code",
   "execution_count": 14,
   "id": "60481bbcbbd76ad8",
   "metadata": {
    "ExecuteTime": {
     "end_time": "2024-01-11T20:45:40.065747689Z",
     "start_time": "2024-01-11T20:45:18.536921797Z"
    }
   },
   "outputs": [],
   "source": [
    "def add_segments():\n",
    "    %matplotlib tk\n",
    "    \"\"\"\n",
    "    Funkcja umożliwia użytkownikowi dodawanie odcinków graficznie za pomocą myszki.\n",
    "    Użytkownik klika na dwa punkty na wykresie, aby zdefiniować odcinek.\n",
    "    Można dodać dowolną liczbę odcinków.\n",
    "    \"\"\"\n",
    "    fig, ax = plt.subplots()\n",
    "    ax.set_title(\"Kliknij dwa punkty, aby utworzyć odcinek. Naciśnij 'Enter', aby zakończyć.\")\n",
    "    ax.set_xlim(0, 10)\n",
    "    ax.set_ylim(0, 10)\n",
    "    segments = []\n",
    "    \n",
    "    while True:\n",
    "        print(\"Kliknij dwa punkty, aby dodać odcinek, lub naciśnij 'Enter', aby zakończyć.\")\n",
    "        \n",
    "        points = plt.ginput(2, timeout=-1)\n",
    "        \n",
    "        if len(points) < 2:\n",
    "            print(\"Zakończono dodawanie odcinków.\")\n",
    "            break\n",
    "        \n",
    "        x_coords, y_coords = zip(*points)\n",
    "        ax.plot(x_coords, y_coords, marker='o', color='blue')\n",
    "        \n",
    "        segment = [(x_coords[0], y_coords[0]), (x_coords[1], y_coords[1])]\n",
    "        segment.sort()\n",
    "        \n",
    "        segments.append((segment[0], segment[1]))\n",
    "        \n",
    "        plt.draw()\n",
    "    \n",
    "    plt.show()\n",
    "    return segments"
   ]
  },
  {
   "cell_type": "code",
   "execution_count": 13,
   "id": "6c5e798bc1aec497",
   "metadata": {
    "ExecuteTime": {
     "end_time": "2024-01-11T20:45:52.732799142Z",
     "start_time": "2024-01-11T20:45:52.330531161Z"
    }
   },
   "outputs": [
    {
     "ename": "NameError",
     "evalue": "name 'np' is not defined",
     "output_type": "error",
     "traceback": [
      "\u001b[0;31m---------------------------------------------------------------------------\u001b[0m",
      "\u001b[0;31mNameError\u001b[0m                                 Traceback (most recent call last)",
      "Cell \u001b[0;32mIn[13], line 1\u001b[0m\n\u001b[0;32m----> 1\u001b[0m T, scenes \u001b[38;5;241m=\u001b[39m trapezoidal_map_vis([((\u001b[43mnp\u001b[49m\u001b[38;5;241m.\u001b[39mfloat64(\u001b[38;5;241m5.221774193548386\u001b[39m), np\u001b[38;5;241m.\u001b[39mfloat64(\u001b[38;5;241m2.8733766233766236\u001b[39m)), (np\u001b[38;5;241m.\u001b[39mfloat64(\u001b[38;5;241m7.379032258064516\u001b[39m), np\u001b[38;5;241m.\u001b[39mfloat64(\u001b[38;5;241m2.4404761904761907\u001b[39m))), ((np\u001b[38;5;241m.\u001b[39mfloat64(\u001b[38;5;241m2.2379032258064515\u001b[39m), np\u001b[38;5;241m.\u001b[39mfloat64(\u001b[38;5;241m4.442640692640693\u001b[39m)), (np\u001b[38;5;241m.\u001b[39mfloat64(\u001b[38;5;241m5.806451612903226\u001b[39m), np\u001b[38;5;241m.\u001b[39mfloat64(\u001b[38;5;241m5.497835497835498\u001b[39m))), ((np\u001b[38;5;241m.\u001b[39mfloat64(\u001b[38;5;241m0.9274193548387095\u001b[39m), np\u001b[38;5;241m.\u001b[39mfloat64(\u001b[38;5;241m5.795454545454546\u001b[39m)), (np\u001b[38;5;241m.\u001b[39mfloat64(\u001b[38;5;241m7.278225806451612\u001b[39m), np\u001b[38;5;241m.\u001b[39mfloat64(\u001b[38;5;241m7.175324675324676\u001b[39m))), ((np\u001b[38;5;241m.\u001b[39mfloat64(\u001b[38;5;241m3.6491935483870965\u001b[39m), np\u001b[38;5;241m.\u001b[39mfloat64(\u001b[38;5;241m8.7987012987013\u001b[39m)), (np\u001b[38;5;241m.\u001b[39mfloat64(\u001b[38;5;241m9.637096774193548\u001b[39m), np\u001b[38;5;241m.\u001b[39mfloat64(\u001b[38;5;241m5.1190476190476195\u001b[39m)))])\n\u001b[1;32m      2\u001b[0m pr \u001b[38;5;241m=\u001b[39m Presenter(scenes)\n\u001b[1;32m      3\u001b[0m pr\u001b[38;5;241m.\u001b[39mdisplay()\n",
      "\u001b[0;31mNameError\u001b[0m: name 'np' is not defined"
     ]
    }
   ],
   "source": [
    "T, scenes = trapezoidal_map_vis([((np.float64(5.221774193548386), np.float64(2.8733766233766236)), (np.float64(7.379032258064516), np.float64(2.4404761904761907))), ((np.float64(2.2379032258064515), np.float64(4.442640692640693)), (np.float64(5.806451612903226), np.float64(5.497835497835498))), ((np.float64(0.9274193548387095), np.float64(5.795454545454546)), (np.float64(7.278225806451612), np.float64(7.175324675324676))), ((np.float64(3.6491935483870965), np.float64(8.7987012987013)), (np.float64(9.637096774193548), np.float64(5.1190476190476195)))])\n",
    "pr = Presenter(scenes)\n",
    "pr.display()"
   ]
  },
  {
   "cell_type": "markdown",
   "id": "93a6c635b5e79eee",
   "metadata": {},
   "source": [
    "## Wizualizacja \n",
    "Poniżej przykładowe wizualizacje szukania najmniejszego trapezu zawierającego zadany punkt\n",
    "\n",
    "<span style=\"color:red\">Zmienić zbiory albo przynajmniej kolejność</span>"
   ]
  },
  {
   "cell_type": "code",
   "execution_count": 15,
   "id": "003035a2",
   "metadata": {
    "ExecuteTime": {
     "end_time": "2024-01-11T20:45:56.748898156Z",
     "start_time": "2024-01-11T20:45:56.580893274Z"
    }
   },
   "outputs": [
    {
     "ename": "AttributeError",
     "evalue": "'NoneType' object has no attribute 'node_type'",
     "output_type": "error",
     "traceback": [
      "\u001b[0;31m---------------------------------------------------------------------------\u001b[0m",
      "\u001b[0;31mAttributeError\u001b[0m                            Traceback (most recent call last)",
      "Cell \u001b[0;32mIn[15], line 3\u001b[0m\n\u001b[1;32m      1\u001b[0m get_ipython()\u001b[38;5;241m.\u001b[39mrun_line_magic(\u001b[38;5;124m'\u001b[39m\u001b[38;5;124mmatplotlib\u001b[39m\u001b[38;5;124m'\u001b[39m, \u001b[38;5;124m'\u001b[39m\u001b[38;5;124minline\u001b[39m\u001b[38;5;124m'\u001b[39m)\n\u001b[1;32m      2\u001b[0m P \u001b[38;5;241m=\u001b[39m Point(\u001b[38;5;241m4.5\u001b[39m,\u001b[38;5;241m5.5\u001b[39m)\n\u001b[0;32m----> 3\u001b[0m \u001b[43mfindPointVisualised\u001b[49m\u001b[43m(\u001b[49m\u001b[43mexampleLines1\u001b[49m\u001b[43m,\u001b[49m\u001b[43m \u001b[49m\u001b[43mP\u001b[49m\u001b[43m)\u001b[49m\n",
      "Cell \u001b[0;32mIn[9], line 81\u001b[0m, in \u001b[0;36mfindPointVisualised\u001b[0;34m(lines, point)\u001b[0m\n\u001b[1;32m     80\u001b[0m \u001b[38;5;28;01mdef\u001b[39;00m \u001b[38;5;21mfindPointVisualised\u001b[39m(lines, point: Point):\n\u001b[0;32m---> 81\u001b[0m     T, scenes \u001b[38;5;241m=\u001b[39m \u001b[43mtrapezoidal_map_vis\u001b[49m\u001b[43m(\u001b[49m\u001b[43mlines\u001b[49m\u001b[43m)\u001b[49m\n\u001b[1;32m     82\u001b[0m     R \u001b[38;5;241m=\u001b[39m Rectangle\u001b[38;5;241m.\u001b[39mcreate_rectangle(lines)\n\u001b[1;32m     83\u001b[0m     trap \u001b[38;5;241m=\u001b[39m T\u001b[38;5;241m.\u001b[39msearch(T\u001b[38;5;241m.\u001b[39mroot, point)\n",
      "Cell \u001b[0;32mIn[9], line 55\u001b[0m, in \u001b[0;36mtrapezoidal_map_vis\u001b[0;34m(segments)\u001b[0m\n\u001b[1;32m     52\u001b[0m T \u001b[38;5;241m=\u001b[39m Tree(rootNode)\n\u001b[1;32m     53\u001b[0m R\u001b[38;5;241m.\u001b[39mnode \u001b[38;5;241m=\u001b[39m rootNode\n\u001b[0;32m---> 55\u001b[0m vis \u001b[38;5;241m=\u001b[39m \u001b[43mdraw_map\u001b[49m\u001b[43m(\u001b[49m\u001b[43mT\u001b[49m\u001b[43m,\u001b[49m\u001b[43m \u001b[49m\u001b[43mR\u001b[49m\u001b[43m)\u001b[49m\n\u001b[1;32m     56\u001b[0m scenes\u001b[38;5;241m.\u001b[39mappend(vis)\n\u001b[1;32m     57\u001b[0m \u001b[38;5;28;01mfor\u001b[39;00m segment \u001b[38;5;129;01min\u001b[39;00m S:\n",
      "Cell \u001b[0;32mIn[9], line 93\u001b[0m, in \u001b[0;36mdraw_map\u001b[0;34m(D, R)\u001b[0m\n\u001b[1;32m     91\u001b[0m vis \u001b[38;5;241m=\u001b[39m Visualizer()\n\u001b[1;32m     92\u001b[0m trapezoids \u001b[38;5;241m=\u001b[39m []\n\u001b[0;32m---> 93\u001b[0m \u001b[43mfind_all_trapezoids\u001b[49m\u001b[43m(\u001b[49m\u001b[43mD\u001b[49m\u001b[38;5;241;43m.\u001b[39;49m\u001b[43mroot\u001b[49m\u001b[43m,\u001b[49m\u001b[43m \u001b[49m\u001b[43mtrapezoids\u001b[49m\u001b[43m)\u001b[49m\n\u001b[1;32m     94\u001b[0m \u001b[38;5;28;01mfor\u001b[39;00m trapezoid \u001b[38;5;129;01min\u001b[39;00m trapezoids:\n\u001b[1;32m     95\u001b[0m     vis \u001b[38;5;241m=\u001b[39m draw_trapezoid(trapezoid, vis)\n",
      "Cell \u001b[0;32mIn[9], line 105\u001b[0m, in \u001b[0;36mfind_all_trapezoids\u001b[0;34m(node, trapezoids)\u001b[0m\n\u001b[1;32m    103\u001b[0m     trapezoids\u001b[38;5;241m.\u001b[39mappend(node\u001b[38;5;241m.\u001b[39mdata)\n\u001b[1;32m    104\u001b[0m \u001b[38;5;28;01melse\u001b[39;00m:\n\u001b[0;32m--> 105\u001b[0m     \u001b[43mfind_all_trapezoids\u001b[49m\u001b[43m(\u001b[49m\u001b[43mnode\u001b[49m\u001b[38;5;241;43m.\u001b[39;49m\u001b[43mleft\u001b[49m\u001b[43m,\u001b[49m\u001b[43m \u001b[49m\u001b[43mtrapezoids\u001b[49m\u001b[43m)\u001b[49m\n\u001b[1;32m    106\u001b[0m     find_all_trapezoids(node\u001b[38;5;241m.\u001b[39mright, trapezoids)\n",
      "Cell \u001b[0;32mIn[9], line 102\u001b[0m, in \u001b[0;36mfind_all_trapezoids\u001b[0;34m(node, trapezoids)\u001b[0m\n\u001b[1;32m    101\u001b[0m \u001b[38;5;28;01mdef\u001b[39;00m \u001b[38;5;21mfind_all_trapezoids\u001b[39m(node, trapezoids):\n\u001b[0;32m--> 102\u001b[0m     \u001b[38;5;28;01mif\u001b[39;00m \u001b[43mnode\u001b[49m\u001b[38;5;241;43m.\u001b[39;49m\u001b[43mnode_type\u001b[49m \u001b[38;5;241m==\u001b[39m \u001b[38;5;124m'\u001b[39m\u001b[38;5;124ml_type_node\u001b[39m\u001b[38;5;124m'\u001b[39m:\n\u001b[1;32m    103\u001b[0m         trapezoids\u001b[38;5;241m.\u001b[39mappend(node\u001b[38;5;241m.\u001b[39mdata)\n\u001b[1;32m    104\u001b[0m     \u001b[38;5;28;01melse\u001b[39;00m:\n",
      "\u001b[0;31mAttributeError\u001b[0m: 'NoneType' object has no attribute 'node_type'"
     ]
    }
   ],
   "source": [
    "%matplotlib inline\n",
    "P = Point(4.5,5.5)\n",
    "findPointVisualised(exampleLines1, P)"
   ]
  },
  {
   "cell_type": "code",
   "execution_count": 19,
   "id": "304e5199",
   "metadata": {
    "ExecuteTime": {
     "end_time": "2024-01-11T20:46:00.201252114Z",
     "start_time": "2024-01-11T20:45:59.884931410Z"
    }
   },
   "outputs": [
    {
     "data": {
      "image/png": "[encoded data removed]",
      "text/plain": [
       "<Figure size 640x480 with 1 Axes>"
      ]
     },
     "metadata": {},
     "output_type": "display_data"
    }
   ],
   "source": [
    "%matplotlib inline\n",
    "P = Point(6,5)\n",
    "findPointVisualised(exampleLines2, P)"
   ]
  },
  {
   "cell_type": "code",
   "execution_count": 20,
   "id": "2e505b5565cc5dc8",
   "metadata": {
    "ExecuteTime": {
     "end_time": "2024-01-11T20:46:00.981033867Z",
     "start_time": "2024-01-11T20:46:00.550951476Z"
    }
   },
   "outputs": [
    {
     "data": {
      "image/png": "[encoded data removed]",
      "text/plain": [
       "<Figure size 640x480 with 1 Axes>"
      ]
     },
     "metadata": {},
     "output_type": "display_data"
    }
   ],
   "source": [
    "%matplotlib inline\n",
    "P = Point(2,8)\n",
    "findPointVisualised(exampleLines3, P)"
   ]
  },
  {
   "cell_type": "code",
   "execution_count": 21,
   "id": "3fc07315afa7a1c7",
   "metadata": {
    "ExecuteTime": {
     "end_time": "2024-01-11T20:46:04.100255908Z",
     "start_time": "2024-01-11T20:46:03.983761672Z"
    }
   },
   "outputs": [
    {
     "data": {
      "image/png": "[encoded data removed]",
      "text/plain": [
       "<Figure size 640x480 with 1 Axes>"
      ]
     },
     "metadata": {},
     "output_type": "display_data"
    }
   ],
   "source": [
    "%matplotlib inline\n",
    "P = Point(6,3)\n",
    "findPointVisualised(exampleLines4, P)"
   ]
  },
  {
   "cell_type": "code",
   "execution_count": 43,
   "id": "f49a8566",
   "metadata": {
    "ExecuteTime": {
     "end_time": "2024-01-11T20:46:07.668987481Z",
     "start_time": "2024-01-11T20:46:06.908931059Z"
    }
   },
   "outputs": [
    {
     "data": {
      "image/png": "[encoded data removed]",
      "text/plain": [
       "<Figure size 640x480 with 1 Axes>"
      ]
     },
     "metadata": {},
     "output_type": "display_data"
    }
   ],
   "source": [
    "P = Point(8,4.5)\n",
    "findPointVisualised(exampleLines5, P)"
   ]
  },
  {
   "cell_type": "markdown",
   "id": "c2224707",
   "metadata": {},
   "source": [
    "## Analiza efektywności algorytmu\n",
    "### Czas konstrukcji mapy trapezowej\n",
    "Przetestujemy czas budowania mapy trapezowej dla zbiorów odcinków o różnej mocy. Aby były spełnione założenia, będziemy generować równoległe odcinki o końcach w różnych współrzędnych $x$. Tutaj nie będziemy wizualizować efektu, ponieważ ze względu na dużą liczbę trapezów w tej skali nie byłoby to czytelne (ale mapa jest konstruowana prawidłowo)."
   ]
  },
  {
   "cell_type": "code",
   "execution_count": 17,
   "id": "a6fe7013",
   "metadata": {},
   "outputs": [],
   "source": [
    "import random\n",
    "import numpy as np"
   ]
  },
  {
   "cell_type": "code",
   "execution_count": 1,
   "id": "93e9ee16",
   "metadata": {},
   "outputs": [],
   "source": [
    "def generateParallelSegments(maxX, maxY, n):\n",
    "    divider = maxY / 2.0\n",
    "    above = n // 2\n",
    "    below = n - n // 2\n",
    "    segments = []\n",
    "\n",
    "    deltaX = deltaY = (maxY - divider) / (above + 1)\n",
    "    for i in range(1, above + 1):\n",
    "        segments.append(((i * deltaX, divider + deltaY), (maxX - i * deltaX, divider + deltaY)))\n",
    "\n",
    "    deltaY = divider / (below + 1)\n",
    "    for i in range(1, below + 1):\n",
    "        segments.append((((i - 0.5) * deltaX, divider - deltaY), (maxX - (i - 0.5) * deltaX, divider - deltaY)))\n",
    "\n",
    "    return segments"
   ]
  },
  {
   "cell_type": "code",
   "execution_count": 2,
   "id": "a29c1791",
   "metadata": {},
   "outputs": [
    {
     "ename": "NameError",
     "evalue": "name 'create_trapezoidal_map' is not defined",
     "output_type": "error",
     "traceback": [
      "\u001b[0;31m---------------------------------------------------------------------------\u001b[0m",
      "\u001b[0;31mNameError\u001b[0m                                 Traceback (most recent call last)",
      "Cell \u001b[0;32mIn[2], line 13\u001b[0m\n\u001b[1;32m     11\u001b[0m segments \u001b[38;5;241m=\u001b[39m generateParallelSegments(x_size, y_size, n \u001b[38;5;241m-\u001b[39m \u001b[38;5;241m2\u001b[39m)\n\u001b[1;32m     12\u001b[0m t1 \u001b[38;5;241m=\u001b[39m time()\n\u001b[0;32m---> 13\u001b[0m T \u001b[38;5;241m=\u001b[39m \u001b[43mcreate_trapezoidal_map\u001b[49m(segments \u001b[38;5;241m+\u001b[39m base)\n\u001b[1;32m     14\u001b[0m t2 \u001b[38;5;241m=\u001b[39m time()\n\u001b[1;32m     15\u001b[0m trapezoidalMaps\u001b[38;5;241m.\u001b[39mappend(T)\n",
      "\u001b[0;31mNameError\u001b[0m: name 'create_trapezoidal_map' is not defined"
     ]
    }
   ],
   "source": [
    "from time import time\n",
    "\n",
    "sizes = [100, 500, 1000, 5000, 10000] #,50000, #75000, #100000]\n",
    "x_size, y_size = 100, 100\n",
    "trapezoidalMaps = []\n",
    "\n",
    "# Służy do zapewnienia, że mapa będzie miała wystarczający rozmiar\n",
    "base = [((0, 0),(x_size, 0)),((0, y_size),(x_size, y_size))] \n",
    "\n",
    "for n in sizes:\n",
    "    segments = generateParallelSegments(x_size, y_size, n - 2)\n",
    "    t1 = time()\n",
    "    T = create_trapezoidal_map(segments + base)\n",
    "    t2 = time()\n",
    "    trapezoidalMaps.append(T)\n",
    "    print(\"Czas budowania mapy trapezowej dla\", n, \"odcinków: {ex_time:.4f} s\".format(ex_time = t2 - t1))"
   ]
  },
  {
   "cell_type": "markdown",
   "id": "9b0851b8",
   "metadata": {},
   "source": [
    "### Rozmiar struktury przeszukiwań \n",
    "Jako rozmiar struktury przeszukiwań rozumiemy liczbę węzłów (wszystkich, nie tylko liści)."
   ]
  },
  {
   "cell_type": "code",
   "execution_count": 47,
   "id": "9144f7d9",
   "metadata": {},
   "outputs": [],
   "source": [
    "def calculate_tree_size(node, count, visited):\n",
    "    if node is None or node in visited:\n",
    "        return\n",
    "    count[0] += 1\n",
    "    visited.add(node)\n",
    "    calculate_tree_size(node.left, count, visited)\n",
    "    calculate_tree_size(node.right, count, visited)"
   ]
  },
  {
   "cell_type": "code",
   "execution_count": 48,
   "id": "bb502636",
   "metadata": {},
   "outputs": [
    {
     "name": "stdout",
     "output_type": "stream",
     "text": [
      "Rozmiar struktury przeszukiwań dla 100 odcinków: 717\n",
      "Rozmiar struktury przeszukiwań dla 500 odcinków: 2624\n",
      "Rozmiar struktury przeszukiwań dla 1000 odcinków: 6000\n",
      "Rozmiar struktury przeszukiwań dla 5000 odcinków: 25913\n",
      "Rozmiar struktury przeszukiwań dla 10000 odcinków: 55579\n"
     ]
    }
   ],
   "source": [
    "for i in range(len(trapezoidalMaps)):\n",
    "    T = trapezoidalMaps[i]\n",
    "    DSize = [0]\n",
    "    visited = set()\n",
    "    calculate_tree_size(T.root, DSize, visited)\n",
    "    print(\"Rozmiar struktury przeszukiwań dla\", sizes[i], \"odcinków:\", DSize[0])"
   ]
  },
  {
   "cell_type": "markdown",
   "id": "64cda87a",
   "metadata": {},
   "source": [
    "### Czas wyszukiwania trapezu dla podanego punktu w mapie trapezowej\n",
    "Testy poniżej mierzą czas znajdowania różnej liczby punktów w mapach trapezowych, zbudowanych na zadanej ilości odcinków\n",
    "wygenerowanych losowo i spełniających wymagania zadania."
   ]
  },
  {
   "cell_type": "code",
   "execution_count": 49,
   "id": "5ede0edf",
   "metadata": {},
   "outputs": [],
   "source": [
    "def generate_uniform_points(maxX, maxY, n):\n",
    "    x_coord = np.random.uniform(1, maxX, n)\n",
    "    y_coord = np.random.uniform(1, maxY, n)\n",
    "\n",
    "    res = [(x, y) for x, y in zip(x_coord, y_coord)]\n",
    "    return res"
   ]
  },
  {
   "cell_type": "code",
   "execution_count": 50,
   "id": "d3bf73a1",
   "metadata": {},
   "outputs": [
    {
     "name": "stdout",
     "output_type": "stream",
     "text": [
      "Test dla mapy zbudowanej z 100 odcinków\n",
      "Czas wyszukiwania dla  100000 punktów: 0.5074 s\n",
      "Test dla mapy zbudowanej z 500 odcinków\n",
      "Czas wyszukiwania dla  100000 punktów: 0.6941 s\n",
      "Test dla mapy zbudowanej z 1000 odcinków\n",
      "Czas wyszukiwania dla  100000 punktów: 0.5980 s\n",
      "Test dla mapy zbudowanej z 5000 odcinków\n",
      "Czas wyszukiwania dla  100000 punktów: 0.8156 s\n",
      "Test dla mapy zbudowanej z 10000 odcinków\n",
      "Czas wyszukiwania dla  100000 punktów: 1.0331 s\n"
     ]
    }
   ],
   "source": [
    "pointCount = 100000\n",
    "\n",
    "for i in range(len(trapezoidalMaps)):\n",
    "    print(f\"Test dla mapy zbudowanej z {sizes[i]} odcinków\")\n",
    "    T = trapezoidalMaps[i]\n",
    "    points = generate_uniform_points(x_size - 1, y_size - 1, pointCount)\n",
    "    P = []\n",
    "    for x,y in points:\n",
    "        P.append(Point(x, y))\n",
    "    \n",
    "    t1 = time()\n",
    "    for p in P:\n",
    "        T.search(T.root, p)\n",
    "    t2 = time()\n",
    "    print(\"Czas wyszukiwania dla \", pointCount, \"punktów: {ex_time:.4f} s\".format(ex_time = t2 - t1))"
   ]
  }
 ],
 "metadata": {
  "kernelspec": {
   "display_name": "bit-alg",
   "language": "python",
   "name": "python3"
  },
  "language_info": {
   "codemirror_mode": {
    "name": "ipython",
    "version": 3
   },
   "file_extension": ".py",
   "mimetype": "text/x-python",
   "name": "python",
   "nbconvert_exporter": "python",
   "pygments_lexer": "ipython3",
   "version": "3.9.20"
  }
 },
 "nbformat": 4,
 "nbformat_minor": 5
}
